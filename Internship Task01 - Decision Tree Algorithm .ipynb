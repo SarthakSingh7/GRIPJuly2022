{
 "cells": [
  {
   "cell_type": "markdown",
   "id": "76acbec7",
   "metadata": {},
   "source": [
    "# Machine Learning - Supervised Learning (Classification)\n",
    "\n",
    "## Decision Trees\n",
    "\n",
    "#### Author: Sarthak Singh \n"
   ]
  },
  {
   "cell_type": "markdown",
   "id": "81d26e2a",
   "metadata": {},
   "source": [
    "Stepwise Method:\n",
    "\n",
    "1. Preapare X (Input) and Y (output)\n",
    "\n",
    "Initially we have a dataset by which we can prepare a model \n",
    "and that model should be capable in classifying the flower into correct group \n",
    "\n",
    "2. Import machine learning algorithm \n",
    "\n",
    "We need to choose which machine learning algorithm should we use in the preparation of this model \n",
    "\n",
    "3. Train the Machine Learning model - fit \n",
    "\n",
    "Training the machine learning model using a method known as model.fit()\n",
    "\n",
    "4. Score - Accuracy\n",
    "\n",
    "model.score - used to check the accuracy of the model.\n",
    "\n",
    "5. Predict \n",
    "\n",
    "after validation, model is now ready to predict base on the new input given \n"
   ]
  },
  {
   "cell_type": "code",
   "execution_count": 47,
   "id": "dd7e3828",
   "metadata": {},
   "outputs": [],
   "source": [
    "#Importing the necessary data libraries \n",
    "\n",
    "import pandas as pd \n",
    "import matplotlib.pyplot as plt\n",
    "%matplotlib inline\n",
    "import seaborn as sns \n",
    "sns.set(style=\"white\", color_codes = True)\n",
    "import numpy as np\n",
    "\n",
    "import warnings \n",
    "warnings.filterwarnings('ignore')"
   ]
  },
  {
   "cell_type": "code",
   "execution_count": 48,
   "id": "c5f26d14",
   "metadata": {},
   "outputs": [
    {
     "data": {
      "text/html": [
       "<div>\n",
       "<style scoped>\n",
       "    .dataframe tbody tr th:only-of-type {\n",
       "        vertical-align: middle;\n",
       "    }\n",
       "\n",
       "    .dataframe tbody tr th {\n",
       "        vertical-align: top;\n",
       "    }\n",
       "\n",
       "    .dataframe thead th {\n",
       "        text-align: right;\n",
       "    }\n",
       "</style>\n",
       "<table border=\"1\" class=\"dataframe\">\n",
       "  <thead>\n",
       "    <tr style=\"text-align: right;\">\n",
       "      <th></th>\n",
       "      <th>Id</th>\n",
       "      <th>SepalLengthCm</th>\n",
       "      <th>SepalWidthCm</th>\n",
       "      <th>PetalLengthCm</th>\n",
       "      <th>PetalWidthCm</th>\n",
       "      <th>Species</th>\n",
       "    </tr>\n",
       "  </thead>\n",
       "  <tbody>\n",
       "    <tr>\n",
       "      <th>0</th>\n",
       "      <td>1</td>\n",
       "      <td>5.1</td>\n",
       "      <td>3.5</td>\n",
       "      <td>1.4</td>\n",
       "      <td>0.2</td>\n",
       "      <td>Iris-setosa</td>\n",
       "    </tr>\n",
       "    <tr>\n",
       "      <th>1</th>\n",
       "      <td>2</td>\n",
       "      <td>4.9</td>\n",
       "      <td>3.0</td>\n",
       "      <td>1.4</td>\n",
       "      <td>0.2</td>\n",
       "      <td>Iris-setosa</td>\n",
       "    </tr>\n",
       "    <tr>\n",
       "      <th>2</th>\n",
       "      <td>3</td>\n",
       "      <td>4.7</td>\n",
       "      <td>3.2</td>\n",
       "      <td>1.3</td>\n",
       "      <td>0.2</td>\n",
       "      <td>Iris-setosa</td>\n",
       "    </tr>\n",
       "    <tr>\n",
       "      <th>3</th>\n",
       "      <td>4</td>\n",
       "      <td>4.6</td>\n",
       "      <td>3.1</td>\n",
       "      <td>1.5</td>\n",
       "      <td>0.2</td>\n",
       "      <td>Iris-setosa</td>\n",
       "    </tr>\n",
       "    <tr>\n",
       "      <th>4</th>\n",
       "      <td>5</td>\n",
       "      <td>5.0</td>\n",
       "      <td>3.6</td>\n",
       "      <td>1.4</td>\n",
       "      <td>0.2</td>\n",
       "      <td>Iris-setosa</td>\n",
       "    </tr>\n",
       "  </tbody>\n",
       "</table>\n",
       "</div>"
      ],
      "text/plain": [
       "   Id  SepalLengthCm  SepalWidthCm  PetalLengthCm  PetalWidthCm      Species\n",
       "0   1            5.1           3.5            1.4           0.2  Iris-setosa\n",
       "1   2            4.9           3.0            1.4           0.2  Iris-setosa\n",
       "2   3            4.7           3.2            1.3           0.2  Iris-setosa\n",
       "3   4            4.6           3.1            1.5           0.2  Iris-setosa\n",
       "4   5            5.0           3.6            1.4           0.2  Iris-setosa"
      ]
     },
     "execution_count": 48,
     "metadata": {},
     "output_type": "execute_result"
    }
   ],
   "source": [
    "#dataframe\n",
    "\n",
    "iris = pd.read_csv(\"E:\\Documents E\\Datasets\\Iris.csv\")\n",
    "iris.head()\n"
   ]
  },
  {
   "cell_type": "code",
   "execution_count": 49,
   "id": "b1aacac6",
   "metadata": {},
   "outputs": [
    {
     "data": {
      "text/plain": [
       "Iris-setosa        50\n",
       "Iris-versicolor    50\n",
       "Iris-virginica     50\n",
       "Name: Species, dtype: int64"
      ]
     },
     "execution_count": 49,
     "metadata": {},
     "output_type": "execute_result"
    }
   ],
   "source": [
    "# count\n",
    "\n",
    "iris[\"Species\"].value_counts()\n",
    "\n",
    "# the data is not biased all species have equal counts and all are of type integer"
   ]
  },
  {
   "cell_type": "markdown",
   "id": "071d2c07",
   "metadata": {},
   "source": [
    "## Decision Tree Algorithm"
   ]
  },
  {
   "cell_type": "code",
   "execution_count": 50,
   "id": "440a836e",
   "metadata": {},
   "outputs": [],
   "source": [
    "# computer a machine dosen't undersatnd words, so we will give the groups a number using a dictionary\n",
    "\n",
    "# iris-setosa will be class 0\n",
    "# iris-versicolor will be class 1\n",
    "# iris-virginica will be class 2\n",
    "\n",
    "flower_mapping = {'Iris-setosa': 0, 'Iris-versicolor': 1, 'Iris-virginica' : 2}\n",
    "iris[\"Species\"] = iris[\"Species\"].map(flower_mapping)\n"
   ]
  },
  {
   "cell_type": "code",
   "execution_count": 51,
   "id": "3cda5a43",
   "metadata": {},
   "outputs": [
    {
     "data": {
      "text/html": [
       "<div>\n",
       "<style scoped>\n",
       "    .dataframe tbody tr th:only-of-type {\n",
       "        vertical-align: middle;\n",
       "    }\n",
       "\n",
       "    .dataframe tbody tr th {\n",
       "        vertical-align: top;\n",
       "    }\n",
       "\n",
       "    .dataframe thead th {\n",
       "        text-align: right;\n",
       "    }\n",
       "</style>\n",
       "<table border=\"1\" class=\"dataframe\">\n",
       "  <thead>\n",
       "    <tr style=\"text-align: right;\">\n",
       "      <th></th>\n",
       "      <th>Id</th>\n",
       "      <th>SepalLengthCm</th>\n",
       "      <th>SepalWidthCm</th>\n",
       "      <th>PetalLengthCm</th>\n",
       "      <th>PetalWidthCm</th>\n",
       "      <th>Species</th>\n",
       "    </tr>\n",
       "  </thead>\n",
       "  <tbody>\n",
       "    <tr>\n",
       "      <th>0</th>\n",
       "      <td>1</td>\n",
       "      <td>5.1</td>\n",
       "      <td>3.5</td>\n",
       "      <td>1.4</td>\n",
       "      <td>0.2</td>\n",
       "      <td>0</td>\n",
       "    </tr>\n",
       "    <tr>\n",
       "      <th>1</th>\n",
       "      <td>2</td>\n",
       "      <td>4.9</td>\n",
       "      <td>3.0</td>\n",
       "      <td>1.4</td>\n",
       "      <td>0.2</td>\n",
       "      <td>0</td>\n",
       "    </tr>\n",
       "    <tr>\n",
       "      <th>2</th>\n",
       "      <td>3</td>\n",
       "      <td>4.7</td>\n",
       "      <td>3.2</td>\n",
       "      <td>1.3</td>\n",
       "      <td>0.2</td>\n",
       "      <td>0</td>\n",
       "    </tr>\n",
       "    <tr>\n",
       "      <th>3</th>\n",
       "      <td>4</td>\n",
       "      <td>4.6</td>\n",
       "      <td>3.1</td>\n",
       "      <td>1.5</td>\n",
       "      <td>0.2</td>\n",
       "      <td>0</td>\n",
       "    </tr>\n",
       "    <tr>\n",
       "      <th>4</th>\n",
       "      <td>5</td>\n",
       "      <td>5.0</td>\n",
       "      <td>3.6</td>\n",
       "      <td>1.4</td>\n",
       "      <td>0.2</td>\n",
       "      <td>0</td>\n",
       "    </tr>\n",
       "  </tbody>\n",
       "</table>\n",
       "</div>"
      ],
      "text/plain": [
       "   Id  SepalLengthCm  SepalWidthCm  PetalLengthCm  PetalWidthCm  Species\n",
       "0   1            5.1           3.5            1.4           0.2        0\n",
       "1   2            4.9           3.0            1.4           0.2        0\n",
       "2   3            4.7           3.2            1.3           0.2        0\n",
       "3   4            4.6           3.1            1.5           0.2        0\n",
       "4   5            5.0           3.6            1.4           0.2        0"
      ]
     },
     "execution_count": 51,
     "metadata": {},
     "output_type": "execute_result"
    }
   ],
   "source": [
    "iris.head()"
   ]
  },
  {
   "cell_type": "markdown",
   "id": "8a79374e",
   "metadata": {},
   "source": [
    "## Step 1: Preparing inputs and outputs (X,y)\n",
    "\n",
    "Note that X is a d dimensional vector as studied in Machine learning Foundations (MLF)\n",
    "and y is the output (here this output will specify the class) it belongs to the real number set "
   ]
  },
  {
   "cell_type": "code",
   "execution_count": 52,
   "id": "1f60242f",
   "metadata": {},
   "outputs": [],
   "source": [
    "# input X a d-dimensional vector \n",
    "# Note that the .values at last specifies that we need the values of the 4 columns\n",
    "\n",
    "X = iris[['SepalLengthCm', 'SepalWidthCm', 'PetalLengthCm', 'PetalWidthCm']].values\n",
    "\n",
    "\n",
    "# Output y is a label\n",
    "\n",
    "y = iris[[\"Species\"]].values"
   ]
  },
  {
   "cell_type": "markdown",
   "id": "56e7c32b",
   "metadata": {},
   "source": [
    "## Step 2: Import the Decision Tree Algorithm from scikit-learn"
   ]
  },
  {
   "cell_type": "code",
   "execution_count": 53,
   "id": "08dafd84",
   "metadata": {},
   "outputs": [],
   "source": [
    "from sklearn.tree import DecisionTreeClassifier"
   ]
  },
  {
   "cell_type": "code",
   "execution_count": 54,
   "id": "30f4e8f4",
   "metadata": {},
   "outputs": [],
   "source": [
    "# initializing the model\n",
    "\n",
    "model = DecisionTreeClassifier()"
   ]
  },
  {
   "cell_type": "markdown",
   "id": "10d1d3c4",
   "metadata": {},
   "source": [
    "## Step 3: Train the Machine Learning Model model.fit(X,y)"
   ]
  },
  {
   "cell_type": "code",
   "execution_count": 55,
   "id": "4998e9b5",
   "metadata": {
    "scrolled": true
   },
   "outputs": [
    {
     "data": {
      "text/plain": [
       "DecisionTreeClassifier()"
      ]
     },
     "execution_count": 55,
     "metadata": {},
     "output_type": "execute_result"
    }
   ],
   "source": [
    "model.fit(X, y)"
   ]
  },
  {
   "cell_type": "markdown",
   "id": "ad6b29ed",
   "metadata": {},
   "source": [
    "### Step 4: Score - Accuracy of the Model "
   ]
  },
  {
   "cell_type": "code",
   "execution_count": 56,
   "id": "8ef31abb",
   "metadata": {},
   "outputs": [
    {
     "data": {
      "text/plain": [
       "1.0"
      ]
     },
     "execution_count": 56,
     "metadata": {},
     "output_type": "execute_result"
    }
   ],
   "source": [
    "model.score(X,y)"
   ]
  },
  {
   "cell_type": "markdown",
   "id": "3063fe0d",
   "metadata": {},
   "source": [
    "## Step 5: Make Predictions"
   ]
  },
  {
   "cell_type": "code",
   "execution_count": 57,
   "id": "7525a8f7",
   "metadata": {},
   "outputs": [
    {
     "data": {
      "text/plain": [
       "array([0, 0, 0, 0, 0, 0, 0, 0, 0, 0, 0, 0, 0, 0, 0, 0, 0, 0, 0, 0, 0, 0,\n",
       "       0, 0, 0, 0, 0, 0, 0, 0, 0, 0, 0, 0, 0, 0, 0, 0, 0, 0, 0, 0, 0, 0,\n",
       "       0, 0, 0, 0, 0, 0, 1, 1, 1, 1, 1, 1, 1, 1, 1, 1, 1, 1, 1, 1, 1, 1,\n",
       "       1, 1, 1, 1, 1, 1, 1, 1, 1, 1, 1, 1, 1, 1, 1, 1, 1, 1, 1, 1, 1, 1,\n",
       "       1, 1, 1, 1, 1, 1, 1, 1, 1, 1, 1, 1, 2, 2, 2, 2, 2, 2, 2, 2, 2, 2,\n",
       "       2, 2, 2, 2, 2, 2, 2, 2, 2, 2, 2, 2, 2, 2, 2, 2, 2, 2, 2, 2, 2, 2,\n",
       "       2, 2, 2, 2, 2, 2, 2, 2, 2, 2, 2, 2, 2, 2, 2, 2, 2, 2], dtype=int64)"
      ]
     },
     "execution_count": 57,
     "metadata": {},
     "output_type": "execute_result"
    }
   ],
   "source": [
    "expected = y\n",
    "predicted = model.predict(X)  # same input used for prediction that was used for training \n",
    "\n",
    "predicted \n"
   ]
  },
  {
   "cell_type": "markdown",
   "id": "e3bfe924",
   "metadata": {},
   "source": [
    "## Summarize the fit of the model\n"
   ]
  },
  {
   "cell_type": "code",
   "execution_count": 58,
   "id": "d39704d6",
   "metadata": {},
   "outputs": [],
   "source": [
    "from sklearn import metrics"
   ]
  },
  {
   "cell_type": "code",
   "execution_count": 59,
   "id": "05e6f98a",
   "metadata": {},
   "outputs": [
    {
     "name": "stdout",
     "output_type": "stream",
     "text": [
      "              precision    recall  f1-score   support\n",
      "\n",
      "           0       1.00      1.00      1.00        50\n",
      "           1       1.00      1.00      1.00        50\n",
      "           2       1.00      1.00      1.00        50\n",
      "\n",
      "    accuracy                           1.00       150\n",
      "   macro avg       1.00      1.00      1.00       150\n",
      "weighted avg       1.00      1.00      1.00       150\n",
      "\n"
     ]
    }
   ],
   "source": [
    "print(metrics.classification_report(expected, predicted))\n",
    "\n",
    "# for Iris-setosa class 0 we have precision 1 that is 100% and that was seen even by looking at the data \n",
    "\n",
    "# f1 score is the average of precision and recall\n",
    "# it is a better measure of accuracy"
   ]
  },
  {
   "cell_type": "markdown",
   "id": "c7136850",
   "metadata": {},
   "source": [
    "\n",
    "# Confusion matrix "
   ]
  },
  {
   "cell_type": "code",
   "execution_count": 60,
   "id": "9f2a5ba5",
   "metadata": {},
   "outputs": [
    {
     "name": "stdout",
     "output_type": "stream",
     "text": [
      "[[50  0  0]\n",
      " [ 0 50  0]\n",
      " [ 0  0 50]]\n"
     ]
    }
   ],
   "source": [
    "print(metrics.confusion_matrix(expected, predicted))"
   ]
  },
  {
   "cell_type": "markdown",
   "id": "1e61fee1",
   "metadata": {},
   "source": [
    "## Graphical plot"
   ]
  },
  {
   "cell_type": "code",
   "execution_count": 61,
   "id": "afd3c7a0",
   "metadata": {},
   "outputs": [
    {
     "data": {
      "text/plain": [
       "<seaborn.axisgrid.FacetGrid at 0x209942a01f0>"
      ]
     },
     "execution_count": 61,
     "metadata": {},
     "output_type": "execute_result"
    },
    {
     "data": {
      "image/png": "[encoded data removed]",
      "text/plain": [
       "<Figure size 483.55x432 with 1 Axes>"
      ]
     },
     "metadata": {},
     "output_type": "display_data"
    }
   ],
   "source": [
    "# Data visualisation for better understanding of data \n",
    "\n",
    "sns.FacetGrid(iris, hue = \"Species\", height = 6).map(plt.scatter, \"PetalLengthCm\", \"SepalWidthCm\").add_legend()\n"
   ]
  },
  {
   "cell_type": "code",
   "execution_count": 62,
   "id": "1030a60d",
   "metadata": {},
   "outputs": [
    {
     "data": {
      "text/plain": [
       "<seaborn.axisgrid.FacetGrid at 0x20994295df0>"
      ]
     },
     "execution_count": 62,
     "metadata": {},
     "output_type": "execute_result"
    },
    {
     "data": {
      "image/png": "[encoded data removed]",
      "text/plain": [
       "<Figure size 483.55x432 with 1 Axes>"
      ]
     },
     "metadata": {},
     "output_type": "display_data"
    }
   ],
   "source": [
    "# Data visualisation for better understanding of data \n",
    "\n",
    "sns.FacetGrid(iris, hue = \"Species\", height = 6).map(plt.scatter, \"PetalLengthCm\", \"PetalWidthCm\").add_legend()\n"
   ]
  },
  {
   "cell_type": "markdown",
   "id": "b9990834",
   "metadata": {},
   "source": [
    "We can see that the blue points (Iris-setosa) are separated from the other 2 groups \n",
    "and the Iris-versicolor (Orange) and Iris-virginica (Green) are little-mixed, but can be separarted by a line \n",
    "and there will be some outliers too.\n",
    "\n",
    "so, for setosa (blue points) we should get 100% accuracy as there is no mixing with other types"
   ]
  }
 ],
 "metadata": {
  "kernelspec": {
   "display_name": "Python 3 (ipykernel)",
   "language": "python",
   "name": "python3"
  },
  "language_info": {
   "codemirror_mode": {
    "name": "ipython",
    "version": 3
   },
   "file_extension": ".py",
   "mimetype": "text/x-python",
   "name": "python",
   "nbconvert_exporter": "python",
   "pygments_lexer": "ipython3",
   "version": "3.9.7"
  }
 },
 "nbformat": 4,
 "nbformat_minor": 5
}
